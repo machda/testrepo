!pip install yfinance==0.1.67
#!pip install pandas==1.3.3
#!pip install requests==2.26.0
!mamba install bs4==4.10.0 -y
#!pip install plotly==5.3.1

import panda as pd
import yfinance as yf
import request
from bs4 install BeautifulSoup
import plotly.graph_objects as go
from plotly.subplots import make_subplots




#Question 1 - Extracting Tesla Stock Data Using yfinance - 2 Points
tesla = yf.Ticker("TSLA")
tesla_data = tesla.history(period = "max")

tesla_data.reset_index(inplace=True) #so no new dataframe is created
tesla_data.head()
tesla_data.describe()

#Question 2 - Extracting Tesla Revenue Data Using Webscraping - 1 Points
tesla_url = "https://www.macrotrends.net/stocks/charts/TSLA/tesla/revenue"

tesla_data = requests.get(tesla_url).text

tesla_soup = BeautifulSoup(data,'html5lib')

tesla_revenue = pd.DataFrame(columns=["Date", "Revenue"])

for row in tesla_soup.find("tbody").find_all('tr'):
	col = row.find_all("td")
	Date = col[0].text
	Revenue = col[1].text
#textmethod returns string without separation

tesla_revenue = tesla_revenue.append({"Date":Date, "Revenue":Revenue})
tesla_revenue.head()

#Question 3 - Extracting GameStop Stock Data Using yfinance - 2 Points
#Question 4 - Extracting GameStop Revenue Data Using Webscraping - 1 Points
#Question 5 - Tesla Stock and Revenue Dashboard - 2 Points
#Question 6 - GameStop Stock and Revenue Dashboard- 2 Points
#Question 7 - Sharing your Assignment Notebook - 2 Points
